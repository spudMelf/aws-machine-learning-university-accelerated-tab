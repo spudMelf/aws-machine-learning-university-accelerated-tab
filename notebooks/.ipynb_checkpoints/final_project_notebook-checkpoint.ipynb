{
 "cells": [
  {
   "cell_type": "markdown",
   "id": "collected-donor",
   "metadata": {},
   "source": [
    "This is my attempt at implementing the final project"
   ]
  },
  {
   "cell_type": "code",
   "execution_count": 35,
   "id": "frank-cleaner",
   "metadata": {},
   "outputs": [
    {
     "name": "stdout",
     "output_type": "stream",
     "text": [
      "Note: you may need to restart the kernel to use updated packages.\n"
     ]
    },
    {
     "name": "stderr",
     "output_type": "stream",
     "text": [
      "ERROR: Could not open requirements file: [Errno 2] No such file or directory: 'requirements.txt'\n"
     ]
    }
   ],
   "source": [
    "%pip install -q -r requirements.txt"
   ]
  },
  {
   "cell_type": "markdown",
   "id": "identified-costs",
   "metadata": {},
   "source": [
    "## 1. Read the datasets (given)"
   ]
  },
  {
   "cell_type": "code",
   "execution_count": 36,
   "id": "cutting-opportunity",
   "metadata": {},
   "outputs": [
    {
     "name": "stdout",
     "output_type": "stream",
     "text": [
      "The shape of the training dataset is: (71538, 13)\n",
      "The shape of the test dataset is: (23846, 12)\n"
     ]
    }
   ],
   "source": [
    "import pandas as pd\n",
    "import numpy as np\n",
    "\n",
    "import warnings\n",
    "warnings.filterwarnings(\"ignore\")\n",
    "  \n",
    "training_data = pd.read_csv('../data/final_project/training.csv')\n",
    "test_data = pd.read_csv('../data/final_project/test_features.csv')\n",
    "\n",
    "print('The shape of the training dataset is:', training_data.shape)\n",
    "print('The shape of the test dataset is:', test_data.shape)"
   ]
  },
  {
   "cell_type": "markdown",
   "id": "timely-dallas",
   "metadata": {},
   "source": [
    "## 2. Train a model (implement)"
   ]
  },
  {
   "cell_type": "markdown",
   "id": "engaged-parallel",
   "metadata": {},
   "source": [
    "### 2.1 Exploratory data analysis"
   ]
  },
  {
   "cell_type": "code",
   "execution_count": 37,
   "id": "enclosed-corpus",
   "metadata": {},
   "outputs": [
    {
     "data": {
      "text/html": [
       "<div>\n",
       "<style scoped>\n",
       "    .dataframe tbody tr th:only-of-type {\n",
       "        vertical-align: middle;\n",
       "    }\n",
       "\n",
       "    .dataframe tbody tr th {\n",
       "        vertical-align: top;\n",
       "    }\n",
       "\n",
       "    .dataframe thead th {\n",
       "        text-align: right;\n",
       "    }\n",
       "</style>\n",
       "<table border=\"1\" class=\"dataframe\">\n",
       "  <thead>\n",
       "    <tr style=\"text-align: right;\">\n",
       "      <th></th>\n",
       "      <th>Pet ID</th>\n",
       "      <th>Outcome Type</th>\n",
       "      <th>Sex upon Outcome</th>\n",
       "      <th>Name</th>\n",
       "      <th>Found Location</th>\n",
       "      <th>Intake Type</th>\n",
       "      <th>Intake Condition</th>\n",
       "      <th>Pet Type</th>\n",
       "      <th>Sex upon Intake</th>\n",
       "      <th>Breed</th>\n",
       "      <th>Color</th>\n",
       "      <th>Age upon Intake Days</th>\n",
       "      <th>Time at Center</th>\n",
       "    </tr>\n",
       "  </thead>\n",
       "  <tbody>\n",
       "    <tr>\n",
       "      <th>0</th>\n",
       "      <td>A745079</td>\n",
       "      <td>Transfer</td>\n",
       "      <td>Unknown</td>\n",
       "      <td>NaN</td>\n",
       "      <td>7920 Old Lockhart in Travis (TX)</td>\n",
       "      <td>Stray</td>\n",
       "      <td>Normal</td>\n",
       "      <td>Cat</td>\n",
       "      <td>Unknown</td>\n",
       "      <td>Domestic Shorthair Mix</td>\n",
       "      <td>Blue</td>\n",
       "      <td>3</td>\n",
       "      <td>0</td>\n",
       "    </tr>\n",
       "    <tr>\n",
       "      <th>1</th>\n",
       "      <td>A801765</td>\n",
       "      <td>Transfer</td>\n",
       "      <td>Intact Female</td>\n",
       "      <td>NaN</td>\n",
       "      <td>5006 Table Top in Austin (TX)</td>\n",
       "      <td>Stray</td>\n",
       "      <td>Normal</td>\n",
       "      <td>Cat</td>\n",
       "      <td>Intact Female</td>\n",
       "      <td>Domestic Shorthair</td>\n",
       "      <td>Brown Tabby/White</td>\n",
       "      <td>28</td>\n",
       "      <td>0</td>\n",
       "    </tr>\n",
       "    <tr>\n",
       "      <th>2</th>\n",
       "      <td>A667965</td>\n",
       "      <td>Transfer</td>\n",
       "      <td>Neutered Male</td>\n",
       "      <td>NaN</td>\n",
       "      <td>14100 Thermal Dr in Austin (TX)</td>\n",
       "      <td>Stray</td>\n",
       "      <td>Normal</td>\n",
       "      <td>Dog</td>\n",
       "      <td>Neutered Male</td>\n",
       "      <td>Chihuahua Shorthair Mix</td>\n",
       "      <td>Brown/Tan</td>\n",
       "      <td>1825</td>\n",
       "      <td>0</td>\n",
       "    </tr>\n",
       "    <tr>\n",
       "      <th>3</th>\n",
       "      <td>A687551</td>\n",
       "      <td>Transfer</td>\n",
       "      <td>Intact Male</td>\n",
       "      <td>NaN</td>\n",
       "      <td>5811 Cedardale Dr in Austin (TX)</td>\n",
       "      <td>Stray</td>\n",
       "      <td>Normal</td>\n",
       "      <td>Cat</td>\n",
       "      <td>Intact Male</td>\n",
       "      <td>Domestic Shorthair Mix</td>\n",
       "      <td>Brown Tabby</td>\n",
       "      <td>28</td>\n",
       "      <td>0</td>\n",
       "    </tr>\n",
       "    <tr>\n",
       "      <th>4</th>\n",
       "      <td>A773004</td>\n",
       "      <td>Adoption</td>\n",
       "      <td>Neutered Male</td>\n",
       "      <td>*Boris</td>\n",
       "      <td>Highway 290 And Arterial A in Austin (TX)</td>\n",
       "      <td>Stray</td>\n",
       "      <td>Normal</td>\n",
       "      <td>Dog</td>\n",
       "      <td>Intact Male</td>\n",
       "      <td>Chihuahua Shorthair Mix</td>\n",
       "      <td>Tricolor/Cream</td>\n",
       "      <td>365</td>\n",
       "      <td>0</td>\n",
       "    </tr>\n",
       "  </tbody>\n",
       "</table>\n",
       "</div>"
      ],
      "text/plain": [
       "    Pet ID Outcome Type Sex upon Outcome    Name  \\\n",
       "0  A745079     Transfer          Unknown     NaN   \n",
       "1  A801765     Transfer    Intact Female     NaN   \n",
       "2  A667965     Transfer    Neutered Male     NaN   \n",
       "3  A687551     Transfer      Intact Male     NaN   \n",
       "4  A773004     Adoption    Neutered Male  *Boris   \n",
       "\n",
       "                              Found Location Intake Type Intake Condition  \\\n",
       "0           7920 Old Lockhart in Travis (TX)       Stray           Normal   \n",
       "1              5006 Table Top in Austin (TX)       Stray           Normal   \n",
       "2            14100 Thermal Dr in Austin (TX)       Stray           Normal   \n",
       "3           5811 Cedardale Dr in Austin (TX)       Stray           Normal   \n",
       "4  Highway 290 And Arterial A in Austin (TX)       Stray           Normal   \n",
       "\n",
       "  Pet Type Sex upon Intake                    Breed              Color  \\\n",
       "0      Cat         Unknown   Domestic Shorthair Mix               Blue   \n",
       "1      Cat   Intact Female       Domestic Shorthair  Brown Tabby/White   \n",
       "2      Dog   Neutered Male  Chihuahua Shorthair Mix          Brown/Tan   \n",
       "3      Cat     Intact Male   Domestic Shorthair Mix        Brown Tabby   \n",
       "4      Dog     Intact Male  Chihuahua Shorthair Mix     Tricolor/Cream   \n",
       "\n",
       "   Age upon Intake Days  Time at Center  \n",
       "0                     3               0  \n",
       "1                    28               0  \n",
       "2                  1825               0  \n",
       "3                    28               0  \n",
       "4                   365               0  "
      ]
     },
     "execution_count": 37,
     "metadata": {},
     "output_type": "execute_result"
    }
   ],
   "source": [
    "training_data.head()"
   ]
  },
  {
   "cell_type": "code",
   "execution_count": 38,
   "id": "casual-productivity",
   "metadata": {},
   "outputs": [
    {
     "name": "stdout",
     "output_type": "stream",
     "text": [
      "<class 'pandas.core.frame.DataFrame'>\n",
      "RangeIndex: 71538 entries, 0 to 71537\n",
      "Data columns (total 13 columns):\n",
      " #   Column                Non-Null Count  Dtype \n",
      "---  ------                --------------  ----- \n",
      " 0   Pet ID                71538 non-null  object\n",
      " 1   Outcome Type          71533 non-null  object\n",
      " 2   Sex upon Outcome      71537 non-null  object\n",
      " 3   Name                  44360 non-null  object\n",
      " 4   Found Location        71538 non-null  object\n",
      " 5   Intake Type           71538 non-null  object\n",
      " 6   Intake Condition      71538 non-null  object\n",
      " 7   Pet Type              71538 non-null  object\n",
      " 8   Sex upon Intake       71537 non-null  object\n",
      " 9   Breed                 71538 non-null  object\n",
      " 10  Color                 71538 non-null  object\n",
      " 11  Age upon Intake Days  71538 non-null  int64 \n",
      " 12  Time at Center        71538 non-null  int64 \n",
      "dtypes: int64(2), object(11)\n",
      "memory usage: 7.1+ MB\n"
     ]
    }
   ],
   "source": [
    "training_data.info()"
   ]
  },
  {
   "cell_type": "code",
   "execution_count": 39,
   "id": "bibliographic-accessory",
   "metadata": {},
   "outputs": [
    {
     "data": {
      "text/html": [
       "<div>\n",
       "<style scoped>\n",
       "    .dataframe tbody tr th:only-of-type {\n",
       "        vertical-align: middle;\n",
       "    }\n",
       "\n",
       "    .dataframe tbody tr th {\n",
       "        vertical-align: top;\n",
       "    }\n",
       "\n",
       "    .dataframe thead th {\n",
       "        text-align: right;\n",
       "    }\n",
       "</style>\n",
       "<table border=\"1\" class=\"dataframe\">\n",
       "  <thead>\n",
       "    <tr style=\"text-align: right;\">\n",
       "      <th></th>\n",
       "      <th>Age upon Intake Days</th>\n",
       "      <th>Time at Center</th>\n",
       "    </tr>\n",
       "  </thead>\n",
       "  <tbody>\n",
       "    <tr>\n",
       "      <th>count</th>\n",
       "      <td>71538.000000</td>\n",
       "      <td>71538.000000</td>\n",
       "    </tr>\n",
       "    <tr>\n",
       "      <th>mean</th>\n",
       "      <td>702.701487</td>\n",
       "      <td>0.087003</td>\n",
       "    </tr>\n",
       "    <tr>\n",
       "      <th>std</th>\n",
       "      <td>1051.158334</td>\n",
       "      <td>0.281841</td>\n",
       "    </tr>\n",
       "    <tr>\n",
       "      <th>min</th>\n",
       "      <td>0.000000</td>\n",
       "      <td>0.000000</td>\n",
       "    </tr>\n",
       "    <tr>\n",
       "      <th>25%</th>\n",
       "      <td>30.000000</td>\n",
       "      <td>0.000000</td>\n",
       "    </tr>\n",
       "    <tr>\n",
       "      <th>50%</th>\n",
       "      <td>365.000000</td>\n",
       "      <td>0.000000</td>\n",
       "    </tr>\n",
       "    <tr>\n",
       "      <th>75%</th>\n",
       "      <td>730.000000</td>\n",
       "      <td>0.000000</td>\n",
       "    </tr>\n",
       "    <tr>\n",
       "      <th>max</th>\n",
       "      <td>9125.000000</td>\n",
       "      <td>1.000000</td>\n",
       "    </tr>\n",
       "  </tbody>\n",
       "</table>\n",
       "</div>"
      ],
      "text/plain": [
       "       Age upon Intake Days  Time at Center\n",
       "count          71538.000000    71538.000000\n",
       "mean             702.701487        0.087003\n",
       "std             1051.158334        0.281841\n",
       "min                0.000000        0.000000\n",
       "25%               30.000000        0.000000\n",
       "50%              365.000000        0.000000\n",
       "75%              730.000000        0.000000\n",
       "max             9125.000000        1.000000"
      ]
     },
     "execution_count": 39,
     "metadata": {},
     "output_type": "execute_result"
    }
   ],
   "source": [
    "training_data.describe()"
   ]
  },
  {
   "cell_type": "code",
   "execution_count": 40,
   "id": "friendly-triple",
   "metadata": {},
   "outputs": [
    {
     "name": "stdout",
     "output_type": "stream",
     "text": [
      "Index(['Pet ID', 'Outcome Type', 'Sex upon Outcome', 'Name', 'Found Location',\n",
      "       'Intake Type', 'Intake Condition', 'Pet Type', 'Sex upon Intake',\n",
      "       'Breed', 'Color', 'Age upon Intake Days', 'Time at Center'],\n",
      "      dtype='object')\n"
     ]
    }
   ],
   "source": [
    "print(training_data.columns)"
   ]
  },
  {
   "cell_type": "markdown",
   "id": "narrative-perspective",
   "metadata": {},
   "source": [
    "Seperate the target outcome from the predicting features"
   ]
  },
  {
   "cell_type": "code",
   "execution_count": 41,
   "id": "peripheral-license",
   "metadata": {},
   "outputs": [
    {
     "name": "stdout",
     "output_type": "stream",
     "text": [
      "Model features:  Index(['Pet ID', 'Outcome Type', 'Sex upon Outcome', 'Name', 'Found Location',\n",
      "       'Intake Type', 'Intake Condition', 'Pet Type', 'Sex upon Intake',\n",
      "       'Breed', 'Color', 'Age upon Intake Days'],\n",
      "      dtype='object')\n",
      "Model target:  Time at Center\n"
     ]
    }
   ],
   "source": [
    "model_features = training_data.columns.drop('Time at Center')\n",
    "model_target = 'Time at Center'\n",
    "\n",
    "print('Model features: ', model_features)\n",
    "print('Model target: ', model_target)"
   ]
  },
  {
   "cell_type": "markdown",
   "id": "egyptian-western",
   "metadata": {},
   "source": [
    "See which cells are numerical vs. categorical"
   ]
  },
  {
   "cell_type": "code",
   "execution_count": 42,
   "id": "circular-wisconsin",
   "metadata": {},
   "outputs": [
    {
     "name": "stdout",
     "output_type": "stream",
     "text": [
      "Numerical columns: Index(['Age upon Intake Days'], dtype='object')\n",
      "\n",
      "Categorical columns: Index(['Pet ID', 'Outcome Type', 'Sex upon Outcome', 'Name', 'Found Location',\n",
      "       'Intake Type', 'Intake Condition', 'Pet Type', 'Sex upon Intake',\n",
      "       'Breed', 'Color'],\n",
      "      dtype='object')\n"
     ]
    }
   ],
   "source": [
    "import numpy as np\n",
    "numerical_features_all = training_data[model_features].select_dtypes(include=np.number).columns\n",
    "print('Numerical columns:',numerical_features_all)\n",
    "\n",
    "print('')\n",
    "\n",
    "categorical_features_all = training_data[model_features].select_dtypes(include='object').columns\n",
    "print('Categorical columns:',categorical_features_all)"
   ]
  },
  {
   "cell_type": "markdown",
   "id": "funny-enterprise",
   "metadata": {},
   "source": [
    "### Check target distribution"
   ]
  },
  {
   "cell_type": "code",
   "execution_count": 43,
   "id": "convenient-cause",
   "metadata": {},
   "outputs": [
    {
     "data": {
      "image/png": "[encoded data removed]",
      "text/plain": [
       "<Figure size 432x288 with 1 Axes>"
      ]
     },
     "metadata": {
      "needs_background": "light"
     },
     "output_type": "display_data"
    }
   ],
   "source": [
    "import matplotlib.pyplot as plt\n",
    "%matplotlib inline\n",
    "\n",
    "training_data[model_target].value_counts().plot.bar()\n",
    "plt.show()"
   ]
  },
  {
   "cell_type": "markdown",
   "id": "filled-thong",
   "metadata": {},
   "source": [
    "The dataset is clearly imbalanced, so we will need to upsample the 1 class later"
   ]
  },
  {
   "cell_type": "markdown",
   "id": "checked-perception",
   "metadata": {},
   "source": [
    "### 2.2 Select features to build the model"
   ]
  },
  {
   "cell_type": "code",
   "execution_count": 44,
   "id": "equivalent-courtesy",
   "metadata": {},
   "outputs": [],
   "source": [
    "numerical_features = ['Age upon Intake Days']\n",
    "\n",
    "categorical_features = ['Sex upon Outcome', 'Intake Type',\n",
    "       'Intake Condition', 'Pet Type', 'Sex upon Intake']\n",
    "\n",
    "text_features = ['Name', 'Found Location', 'Breed', 'Color']\n",
    "\n",
    "model_features = numerical_features + categorical_features + text_features\n",
    "model_target = 'Time at Center'"
   ]
  },
  {
   "cell_type": "code",
   "execution_count": 45,
   "id": "cultural-techno",
   "metadata": {},
   "outputs": [
    {
     "name": "stdout",
     "output_type": "stream",
     "text": [
      "Age upon Intake Days\n"
     ]
    },
    {
     "data": {
      "image/png": "[encoded data removed]",
      "text/plain": [
       "<Figure size 432x288 with 1 Axes>"
      ]
     },
     "metadata": {
      "needs_background": "light"
     },
     "output_type": "display_data"
    }
   ],
   "source": [
    "import matplotlib.pyplot as plt\n",
    "%matplotlib inline\n",
    "\n",
    "for c in numerical_features:\n",
    "    print(c)\n",
    "    training_data[c].plot.hist(bins=5)\n",
    "    plt.show()"
   ]
  },
  {
   "cell_type": "code",
   "execution_count": 46,
   "id": "promising-murray",
   "metadata": {},
   "outputs": [
    {
     "name": "stdout",
     "output_type": "stream",
     "text": [
      "Age upon Intake Days\n",
      "(-9.126, 912.5]     56111\n",
      "(912.5, 1825.0]      7948\n",
      "(1825.0, 2737.5]     2596\n",
      "(2737.5, 3650.0]     2973\n",
      "(3650.0, 4562.5]      954\n",
      "(4562.5, 5475.0]      757\n",
      "(5475.0, 6387.5]      135\n",
      "(6387.5, 7300.0]       59\n",
      "(7300.0, 8212.5]        3\n",
      "(8212.5, 9125.0]        2\n",
      "Name: Age upon Intake Days, dtype: int64\n"
     ]
    }
   ],
   "source": [
    "for c in numerical_features: \n",
    "    print(c)\n",
    "    print(training_data[c].value_counts(bins=10, sort=False))\n",
    "    plt.show()"
   ]
  },
  {
   "cell_type": "code",
   "execution_count": 47,
   "id": "extreme-parent",
   "metadata": {},
   "outputs": [
    {
     "name": "stdout",
     "output_type": "stream",
     "text": [
      "Age upon Intake Days    0\n",
      "dtype: int64\n"
     ]
    }
   ],
   "source": [
    "print(training_data[numerical_features].isna().sum())"
   ]
  },
  {
   "cell_type": "code",
   "execution_count": 48,
   "id": "creative-freeze",
   "metadata": {},
   "outputs": [
    {
     "name": "stdout",
     "output_type": "stream",
     "text": [
      "Sex upon Outcome\n",
      "['Unknown' 'Intact Female' 'Neutered Male' 'Intact Male' 'Spayed Female'\n",
      " nan]\n",
      "Intake Type\n",
      "['Stray' 'Owner Surrender' 'Wildlife' 'Public Assist' 'Abandoned'\n",
      " 'Euthanasia Request']\n",
      "Intake Condition\n",
      "['Normal' 'Nursing' 'Injured' 'Sick' 'Aged' 'Feral' 'Other' 'Pregnant'\n",
      " 'Medical' 'Behavior']\n",
      "Pet Type\n",
      "['Cat' 'Dog' 'Other' 'Bird' 'Livestock']\n",
      "Sex upon Intake\n",
      "['Unknown' 'Intact Female' 'Neutered Male' 'Intact Male' 'Spayed Female'\n",
      " nan]\n"
     ]
    }
   ],
   "source": [
    "for c in categorical_features:\n",
    "    print(c)\n",
    "    print(training_data[c].unique()) #value_counts())"
   ]
  },
  {
   "cell_type": "code",
   "execution_count": 49,
   "id": "cooked-tradition",
   "metadata": {},
   "outputs": [],
   "source": [
    "training_data[categorical_features + text_features] = training_data[categorical_features + text_features].astype('str')"
   ]
  },
  {
   "cell_type": "code",
   "execution_count": 50,
   "id": "chief-probability",
   "metadata": {},
   "outputs": [
    {
     "name": "stdout",
     "output_type": "stream",
     "text": [
      "Sex upon Outcome    0\n",
      "Intake Type         0\n",
      "Intake Condition    0\n",
      "Pet Type            0\n",
      "Sex upon Intake     0\n",
      "Name                0\n",
      "Found Location      0\n",
      "Breed               0\n",
      "Color               0\n",
      "dtype: int64\n"
     ]
    }
   ],
   "source": [
    "print(training_data[categorical_features + text_features].isna().sum())"
   ]
  },
  {
   "cell_type": "code",
   "execution_count": 51,
   "id": "changing-african",
   "metadata": {},
   "outputs": [
    {
     "name": "stdout",
     "output_type": "stream",
     "text": [
      "Name\n",
      "['nan' '*Boris' '*Joshua' ... 'Mr Puppy' 'Secret' 'Durant']\n",
      "Found Location\n",
      "['7920 Old Lockhart in Travis (TX)' '5006 Table Top in Austin (TX)'\n",
      " '14100 Thermal Dr in Austin (TX)' ...\n",
      " 'Dixie Dr And Rhett Pl in Austin (TX)' '3129 E 12Th St in Austin (TX)'\n",
      " '8701 Panadero Dr in Austin (TX)']\n",
      "Breed\n",
      "['Domestic Shorthair Mix' 'Domestic Shorthair' 'Chihuahua Shorthair Mix'\n",
      " ... 'Border Collie/English Springer Spaniel'\n",
      " 'Norfolk Terrier/Yorkshire Terrier' 'Muscovy']\n",
      "Color\n",
      "['Blue' 'Brown Tabby/White' 'Brown/Tan' 'Brown Tabby' 'Tricolor/Cream'\n",
      " 'Black/White' 'Torbie' 'Black/Tan' 'Lynx Point' 'Brown' 'Red/White'\n",
      " 'Brown Merle' 'Buff' 'Black' 'Blue Tabby' 'Brown/White' 'White' 'Calico'\n",
      " 'White/Black' 'Black/Brown' 'Tan/White' 'Seal Point'\n",
      " 'White/Brown Brindle' 'Tan/Black' 'Gray Tabby' 'Fawn/White' 'Tortie'\n",
      " 'White/Tan' 'Brown Brindle' 'Apricot/White' 'Blue/White' 'Sable' 'Tan'\n",
      " 'Gray' 'White/Brown Tabby' 'White/Cream' 'Gray/Red' 'Tricolor'\n",
      " 'Orange Tabby/White' 'Orange Tabby' 'Red/Gray' 'Black Smoke'\n",
      " 'Yellow Brindle' 'White/Brown' 'Brown/Black' 'Lynx Point/White'\n",
      " 'Blue Tabby/White' 'Cream/Black' 'Cream' 'Torbie/White' 'Gray/Black'\n",
      " 'Yellow' 'Chocolate' 'Brown Brindle/White' 'Chocolate/White'\n",
      " 'Brown Tabby/Brown' 'Red/Tan' 'Cream Tabby' 'Sable/White' 'Tan/Tricolor'\n",
      " 'White/Liver' 'Buff/Tan' 'Brown Tabby/Black' 'Cream Tabby/White'\n",
      " 'White/Gray' 'Buff/White' 'Chocolate/Tan' 'Gray Tabby/White' 'Red'\n",
      " 'Blue Merle' 'Black Brindle/White' 'Black/Tricolor' 'Red Tick'\n",
      " 'Chocolate/Red Tick' 'White/Blue' 'White/Blue Tick' 'White/Orange Tabby'\n",
      " 'Black/Gray' 'White/Orange' 'Gold/White' 'Flame Point/Cream' 'Gray/White'\n",
      " 'White/Tricolor' 'Brown/Tricolor' 'Chocolate/Red' 'White/Yellow'\n",
      " 'Tan/Tan' 'Black/Black' 'Liver/White' 'White/Red' 'Red/Black'\n",
      " 'Brown Tabby/Gray' 'Calico/Black' 'Black/Brown Brindle' 'Calico/White'\n",
      " 'Tricolor/White' 'Cream/Tan' 'Tan/Cream' 'Brown/Red' 'Orange Tabby/Brown'\n",
      " 'Buff/Red' 'White/Gray Tabby' 'Calico/Brown Tabby' 'Blue Tick' 'Blue/Tan'\n",
      " 'Cream/Brown' 'Tortie Point' 'Silver/Black' 'Chocolate Point'\n",
      " 'Cream/White' 'White/Chocolate' 'Black Brindle' 'Chocolate/Black'\n",
      " 'Silver Lynx Point' 'White/Black Brindle' 'Gray/Tan' 'Orange'\n",
      " 'Yellow Brindle/White' 'White/Silver' 'Black Tabby' 'Black/Cream'\n",
      " 'Gray/Green' 'Seal Point/White' 'Blue Merle/White' 'Brown/Cream'\n",
      " 'White/Brown Tiger' 'Blue/Black' 'Brown Merle/White' 'Blue Tick/Black'\n",
      " 'Brown Brindle/Black' 'Brown/Brown' 'Red Merle' 'Tortie/White'\n",
      " 'White/Brown Merle' 'Gold' 'Blue/Tricolor' 'Lilac Point'\n",
      " 'Black Smoke/White' 'Brown/Gray' 'Orange/White' 'Tricolor/Brown'\n",
      " 'Red/Brown' 'Blue/Gray' 'Silver Tabby' 'Black Tabby/White' 'Brown Tiger'\n",
      " 'Fawn' 'Flame Point' 'Brown/Silver' 'Sable/Brown' 'White/Blue Merle'\n",
      " 'Orange/Tan' 'Apricot' 'Silver Tabby/White' 'Blue Point'\n",
      " 'Sable/Red Merle' 'White/White' 'Blue/Cream' 'Blue Cream' 'Liver/Tan'\n",
      " 'Buff/Gray' 'Gray/Tortie' 'Agouti/Gray' 'Black/Red' 'Flame Point/White'\n",
      " 'Tan/Silver' 'Tan/Brown' 'Sable/Tan' 'Gray/Cream' 'Seal Point/Brown'\n",
      " 'Yellow/White' 'Blue Tick/Tan' 'Pink' 'Brown/Red Tick'\n",
      " 'White/Cream Tabby' 'White/Red Tick' 'Blue Tiger' 'Silver/Tan' 'Green'\n",
      " 'Red Tick/White' 'Calico Point' 'Chocolate/Tricolor' 'Tricolor/Gray'\n",
      " 'Tortie/Orange' 'Black/Blue Tick' 'Silver' 'Red/Silver'\n",
      " 'Cream/Seal Point' 'White/Fawn' 'Gray/Gray' 'Black/Blue Merle'\n",
      " 'Gray/Silver' 'Blue Merle/Gray' 'Fawn/Black' 'Tan/Red' 'Tricolor/Black'\n",
      " 'Black/Yellow Brindle' 'Tortie/Blue' 'Silver/Red' 'Tricolor/Blue Merle'\n",
      " 'Blue Smoke/White' 'Brown Tabby/Gray Tabby' 'White/Blue Tabby'\n",
      " 'Gray Tabby/Black' 'Tan/Blue Merle' 'Tricolor/Chocolate'\n",
      " 'Brown Tabby/Silver' 'Black/Black Tabby' 'Blue Merle/Cream' 'Red/Gold'\n",
      " 'Blue/Brown' 'White/Black Smoke' 'Calico/Tricolor' 'White/Buff'\n",
      " 'White/Calico' 'Black/Pink' 'Tan/Gray' 'Silver/Chocolate' 'Tan/Fawn'\n",
      " 'Gold/Buff' 'Blue Cream/White' 'Chocolate/Brown Tabby' 'Calico/Brown'\n",
      " 'Gray/Brown' 'Fawn/Brown' 'Blue Merle/Tricolor' 'Lynx Point/Tortie Point'\n",
      " 'Brown/Liver' 'Blue Tiger/White' 'Blue Merle/Tan' 'Red/Yellow'\n",
      " 'Sable/Black' 'Chocolate/Brown' 'Chocolate/Cream' 'Black Brindle/Brown'\n",
      " 'Blue/Tortie' 'Tricolor/Blue' 'Brown Tiger/White' 'Agouti'\n",
      " 'Blue Merle/Black' 'Silver/White' 'Orange/Brown' 'Black/Chocolate'\n",
      " 'Blue Tick/Tricolor' 'Red/Red Merle' 'White/Pink' 'Gray/Pink'\n",
      " 'Black Tiger/White' 'Black/Black Brindle' 'Tortie/Blue Tabby' 'Gold/Tan'\n",
      " 'Red Merle/Tan' 'Black/Buff' 'Tortie Point/White' 'Tan/Red Merle'\n",
      " 'Tricolor/Brown Brindle' 'Sable/Red' 'Gray/Blue' 'Brown Merle/Brown'\n",
      " 'Brown/Black Brindle' 'Orange Tabby/Black' 'White/Black Tabby'\n",
      " 'Silver/Brown' 'Brown/Brown Brindle' 'Brown Tabby/Tortie' 'Ruddy/Cream'\n",
      " 'Gold/Silver' 'White/Chocolate Point' 'White/Tortie' 'Gray/Orange'\n",
      " 'Brown Brindle/Blue' 'Blue/Yellow' 'Blue/Brown Brindle'\n",
      " 'Brown Brindle/Tan' 'Buff/Black' 'Black/Tortie' 'Yellow/Orange Tabby'\n",
      " 'Red/Cream' 'Chocolate/Liver Tick' 'Red Tick/Tricolor' 'Red/Buff'\n",
      " 'Yellow/Brown' 'Blue Merle/Brown Brindle' 'White/Red Merle'\n",
      " 'Lilac Point/White' 'Tortie/Black' 'Black/Silver' 'Black/Yellow'\n",
      " 'Tricolor/Blue Tick' 'Red/Tricolor' 'Yellow/Black' 'Tan/Red Tick'\n",
      " 'Red Merle/White' 'Brown/Brown Tabby' 'Tricolor/Orange'\n",
      " 'Chocolate Point/White' 'Yellow/Cream' 'Chocolate/Chocolate' 'Fawn/Tan'\n",
      " 'Black/Black Smoke' 'Tan/Buff' 'Calico/Calico' 'Green/Gray'\n",
      " 'Tricolor/Tan' 'Gold/Yellow' 'Buff/Brown' 'Brown Brindle/Red Tick'\n",
      " 'White/Apricot' 'Blue Smoke' 'Brown/Chocolate' 'Blue Smoke/Gray'\n",
      " 'Agouti/White' 'White/Gold' 'Black Tiger' 'Brown Merle/Brown Tabby'\n",
      " 'Brown Brindle/Brown' 'Yellow/Gray' 'Red Tick/Tan' 'Gold/Black'\n",
      " 'Green/Red' 'Brown Tabby/Black Tabby' 'Gold/Gold'\n",
      " 'Tortie Point/Seal Point' 'Tan/Blue' 'Tortie/Blue Cream' 'Yellow/Tan'\n",
      " 'Blue/Green' 'Tan/Cream Tabby' 'White/Black Tiger' 'Green/Yellow'\n",
      " 'White/Seal Point' 'Brown Merle/Black' 'Red Merle/Black' 'Brown/Orange'\n",
      " 'Gray/Gray Tabby' 'Black/Brown Merle' 'Yellow/Yellow' 'Red/Brown Brindle'\n",
      " 'Brown Tabby/Orange' 'Brown/Fawn' 'Cream/Red' 'Blue Cream/Blue Tabby'\n",
      " 'Buff/Cream' 'Red/Red Tick' 'Yellow/Orange' 'Orange Tabby/Apricot'\n",
      " 'Tortie/Calico' 'Black/Blue' 'Blue Point/White' 'White/Lynx Point'\n",
      " 'Cream/Cream' 'Blue/Yellow Brindle' 'Tortie Point/Blue'\n",
      " 'Brown Tabby/Brown Tabby' 'Tortie/Black Smoke' 'Orange Tabby/Cream'\n",
      " 'Black/Gold' 'Gray/Gold' 'Red Merle/Red Merle' 'Blue Tick/White'\n",
      " 'Blue Cream/Tortie' 'Liver' 'Brown Brindle/Blue Tick' 'Blue Tabby/Cream'\n",
      " 'Cream/Blue Point' 'Red Tick/Red' 'Blue Tick/Brown' 'Black Tabby/Orange'\n",
      " 'Green/Blue' 'Black/Orange' 'Cream Tabby/Orange Tabby'\n",
      " 'Calico/Gray Tabby' 'Sable/Cream' 'Torbie/Black' 'Blue Cream/Blue Tiger'\n",
      " 'Gold/Cream' 'Seal Point/Gray' 'Blue Tick/Red Tick' 'Liver Tick'\n",
      " 'Black/Fawn' 'Black Tabby/Gray Tabby' 'Blue Merle/Blue Merle'\n",
      " 'Blue Tick/Red' 'Calico/Blue Cream' 'Red Tick/Brown' 'Tan/Yellow'\n",
      " 'Black Brindle/Brown Brindle' 'Black Brindle/Blue Tick' 'Gray/Tricolor'\n",
      " 'Cream/Gray' 'Orange Tiger' 'Yellow/Green' 'Torbie/Blue Cream'\n",
      " 'White/Silver Tabby' 'Gray/Yellow' 'Calico Point/Gray'\n",
      " 'Tan/Brown Brindle' 'Buff/Yellow' 'Orange Tabby/Tortie Point'\n",
      " 'Torbie/Blue Tabby' 'Tortie Point/Cream' 'White/Agouti' 'Orange/Black'\n",
      " 'Brown/Buff' 'Blue/Blue' 'Lilac Point/Cream' 'Brown/Blue Merle'\n",
      " 'Tan/Gold' 'White/Blue Cream' 'Tricolor/Silver' 'Black/Brown Tabby'\n",
      " 'Tricolor/Red Tick' 'Torbie/Brown Tabby' 'White/Gray Tiger' 'Brown/Blue'\n",
      " 'Blue Tabby/Tan' 'Brown Brindle/Brown Brindle' 'Cream/Tricolor'\n",
      " 'Red Tick/Brown Merle' 'Brown Tabby/Calico' 'Lynx Point/Blue'\n",
      " 'Green/Black' 'Sable/Buff' 'Blue Merle/Brown' 'Gold/Brown'\n",
      " 'Lynx Point/Gray' 'White/Yellow Brindle' 'Black Brindle/Black'\n",
      " 'Fawn/Blue' 'Black Smoke/Brown' 'Chocolate/Gold' 'White/Liver Tick'\n",
      " 'Blue Smoke/Brown' 'Green/Orange' 'Liver/Liver Tick' 'Chocolate/Fawn'\n",
      " 'White/Flame Point' 'Red/Red' 'White/Calico Point' 'Red Tick/Blue Tick'\n",
      " 'Orange Tabby/Orange Tabby' 'Black/Seal Point' 'Green/Brown'\n",
      " 'Green/Silver' 'Cream/Silver' 'Tan/Chocolate Point' 'Brown Tabby/Blue'\n",
      " 'Black Smoke/Blue Tick' 'Silver/Cream' 'Cream/Red Tick'\n",
      " 'Brown/Brown Merle' 'Blue Tabby/Blue Cream' 'Brown Merle/Tan'\n",
      " 'Blue Merle/Red Merle' 'Torbie/Silver Tabby' 'Chocolate/Blue Tick'\n",
      " 'Orange/Orange Tabby' 'Silver/Orange' 'Blue Tabby/Tortie'\n",
      " 'Silver Tabby/Black' 'Black Tabby/Gray' 'Seal Point/Cream'\n",
      " 'Torbie/Calico' 'Brown Brindle/Brown Merle' 'Red Tick/Black'\n",
      " 'Cream/Brown Merle' 'Blue Point/Cream' 'Agouti/Cream' 'Tortie/Brown'\n",
      " 'Lilac Point/Gray' 'Brown Brindle/Gray' 'Orange/Blue' 'Blue/Silver'\n",
      " 'Brown Brindle/Blue Cream' 'Brown Tabby/Black Brindle'\n",
      " 'Brown Brindle/Liver Tick' 'Liver/Buff' 'Black Smoke/Brown Tabby'\n",
      " 'Cream/Blue' 'Brown Tabby/Orange Tabby' 'Black Tabby/Black' 'Cream Tiger'\n",
      " 'White/Green' 'Tortie Point/Lynx Point' 'Black/Green' 'Silver/Gray'\n",
      " 'Gray/Fawn' 'Calico/Orange' 'Green/White' 'Black Brindle/Tan' 'Red/Green'\n",
      " 'Gray/Blue Merle' 'Calico Point/White' 'Torbie/Gray'\n",
      " 'Tricolor/Brown Merle' 'Liver Tick/White' 'Chocolate/Brown Merle'\n",
      " 'Red Merle/Brown Merle' 'Red/Blue' 'Cream Tabby/Cream Tabby'\n",
      " 'Blue Cream/Buff' 'Blue Tick/Brown Brindle' 'Torbie/Brown' 'Brown/Green'\n",
      " 'Lynx Point/Gray Tabby' 'Tan/Yellow Brindle' 'Chocolate Point/Cream'\n",
      " 'Black Brindle/Blue' 'Brown/Pink' 'Black/Gray Tabby' 'White/Lilac Point'\n",
      " 'Calico Point/Lynx Point' 'Orange/Gray' 'Gray Tabby/Orange'\n",
      " 'Black Smoke/Black Tiger' 'Red Tick/Brown Brindle' 'Tan/Apricot'\n",
      " 'Agouti/Brown Tabby' 'Brown/Black Smoke' 'Black Smoke/Chocolate'\n",
      " 'Brown/Yellow' 'Cream/Orange' 'Blue Tabby/Buff' 'Brown/Red Merle'\n",
      " 'Brown/Black Tabby']\n"
     ]
    }
   ],
   "source": [
    "for c in text_features:\n",
    "    print(c)\n",
    "    print(training_data[c].unique()) #value_counts())"
   ]
  },
  {
   "cell_type": "code",
   "execution_count": 52,
   "id": "unable-architect",
   "metadata": {},
   "outputs": [
    {
     "name": "stdout",
     "output_type": "stream",
     "text": [
      "Text cleaning:  Name\n",
      "Text cleaning:  Found Location\n",
      "Text cleaning:  Breed\n",
      "Text cleaning:  Color\n"
     ]
    }
   ],
   "source": [
    "# Prepare cleaning functions\n",
    "import re, string\n",
    "import nltk\n",
    "from nltk.stem import SnowballStemmer\n",
    "\n",
    "stop_words = [\"a\", \"an\", \"the\", \"this\", \"that\", \"is\", \"it\", \"to\", \"and\"]\n",
    "\n",
    "stemmer = SnowballStemmer('english')\n",
    "\n",
    "def preProcessText(text):\n",
    "    # lowercase and strip leading/trailing white space\n",
    "    text = text.lower().strip()\n",
    "    \n",
    "    # remove HTML tags\n",
    "    text = re.compile('<.*?>').sub('', text)\n",
    "    \n",
    "    # remove punctuation\n",
    "    text = re.compile('[%s]' % re.escape(string.punctuation)).sub(' ', text)\n",
    "    \n",
    "    # remove extra white space\n",
    "    text = re.sub('\\s+', ' ', text)\n",
    "    \n",
    "    return text\n",
    "\n",
    "def lexiconProcess(text, stop_words, stemmer):\n",
    "    filtered_sentence = []\n",
    "    words = text.split(\" \")\n",
    "    for w in words:\n",
    "        if w not in stop_words:\n",
    "            filtered_sentence.append(stemmer.stem(w))\n",
    "    text = \" \".join(filtered_sentence)\n",
    "    \n",
    "    return text\n",
    "\n",
    "def cleanSentence(text, stop_words, stemmer):\n",
    "    return lexiconProcess(preProcessText(text), stop_words, stemmer)\n",
    "\n",
    "# Clean the text features\n",
    "for c in text_features:\n",
    "    print('Text cleaning: ', c)\n",
    "    training_data[c] = [cleanSentence(item, stop_words, stemmer) for item in training_data[c].values]"
   ]
  },
  {
   "cell_type": "markdown",
   "id": "australian-atlantic",
   "metadata": {},
   "source": [
    "### 2.4 Model Training"
   ]
  },
  {
   "cell_type": "markdown",
   "id": "moving-arnold",
   "metadata": {},
   "source": [
    "Splitting and upsampling data"
   ]
  },
  {
   "cell_type": "code",
   "execution_count": 53,
   "id": "associate-congress",
   "metadata": {},
   "outputs": [],
   "source": [
    "from sklearn.model_selection import train_test_split\n",
    "\n",
    "train_data, test_data = train_test_split(training_data, test_size=0.2, shuffle=True, random_state=23)\n",
    "val_data, test_data = train_test_split(test_data, test_size=0.5, shuffle=True, random_state=23)"
   ]
  },
  {
   "cell_type": "code",
   "execution_count": 54,
   "id": "correct-announcement",
   "metadata": {},
   "outputs": [
    {
     "name": "stdout",
     "output_type": "stream",
     "text": [
      "Training set shape: (57230, 13)\n",
      "Class 0 samples in the training set: 52275\n",
      "Class 1 samples in the training set: 4955\n",
      "Class 0 samples in the test set: 6536\n",
      "Class 1 samples in the test set: 618\n"
     ]
    }
   ],
   "source": [
    "print('Training set shape:', train_data.shape)\n",
    "\n",
    "print('Class 0 samples in the training set:', sum(train_data[model_target] == 0))\n",
    "print('Class 1 samples in the training set:', sum(train_data[model_target] == 1))\n",
    "\n",
    "print('Class 0 samples in the test set:', sum(test_data[model_target] == 0))\n",
    "print('Class 1 samples in the test set:', sum(test_data[model_target] == 1))"
   ]
  },
  {
   "cell_type": "code",
   "execution_count": 55,
   "id": "usual-guarantee",
   "metadata": {},
   "outputs": [],
   "source": [
    "from sklearn.utils import shuffle\n",
    "\n",
    "class_0_no = train_data[train_data[model_target] == 0]\n",
    "class_1_no = train_data[train_data[model_target] == 1]\n",
    "\n",
    "upsampled_class_0_no = class_0_no.sample(n=len(class_1_no), replace=True, random_state=42)\n",
    "\n",
    "train_data = pd.concat([class_1_no, upsampled_class_0_no])\n",
    "train_data = shuffle(train_data)"
   ]
  },
  {
   "cell_type": "code",
   "execution_count": 58,
   "id": "dramatic-automation",
   "metadata": {},
   "outputs": [
    {
     "name": "stdout",
     "output_type": "stream",
     "text": [
      "Training set shape: (9910, 13)\n",
      "Class 1 samples in the training set: 4955\n",
      "Class 0 samples in the training set: 4955\n",
      "Class 0 samples in the test set: 6536\n",
      "Class 1 samples in the test set: 618\n"
     ]
    }
   ],
   "source": [
    "print('Training set shape:', train_data.shape)\n",
    "\n",
    "print('Class 1 samples in the training set:', sum(train_data[model_target] == 1))\n",
    "print('Class 0 samples in the training set:', sum(train_data[model_target] == 0))\n",
    "\n",
    "print('Class 0 samples in the test set:', sum(test_data[model_target] == 0))\n",
    "print('Class 1 samples in the test set:', sum(test_data[model_target] == 1))"
   ]
  },
  {
   "cell_type": "markdown",
   "id": "cutting-monitoring",
   "metadata": {},
   "source": [
    "### implement pipeline to process data"
   ]
  },
  {
   "cell_type": "code",
   "execution_count": 63,
   "id": "awful-harvard",
   "metadata": {},
   "outputs": [
    {
     "name": "stdout",
     "output_type": "stream",
     "text": [
      "Datasets shapes before processing:  (9910, 10) (7154, 10) (7154, 10)\n",
      "Datasets shapes after processing:  (9910, 231) (7154, 231) (7154, 231)\n"
     ]
    },
    {
     "data": {
      "text/html": [
       "<style>div.sk-top-container {color: black;background-color: white;}div.sk-toggleable {background-color: white;}label.sk-toggleable__label {cursor: pointer;display: block;width: 100%;margin-bottom: 0;padding: 0.2em 0.3em;box-sizing: border-box;text-align: center;}div.sk-toggleable__content {max-height: 0;max-width: 0;overflow: hidden;text-align: left;background-color: #f0f8ff;}div.sk-toggleable__content pre {margin: 0.2em;color: black;border-radius: 0.25em;background-color: #f0f8ff;}input.sk-toggleable__control:checked~div.sk-toggleable__content {max-height: 200px;max-width: 100%;overflow: auto;}div.sk-estimator input.sk-toggleable__control:checked~label.sk-toggleable__label {background-color: #d4ebff;}div.sk-label input.sk-toggleable__control:checked~label.sk-toggleable__label {background-color: #d4ebff;}input.sk-hidden--visually {border: 0;clip: rect(1px 1px 1px 1px);clip: rect(1px, 1px, 1px, 1px);height: 1px;margin: -1px;overflow: hidden;padding: 0;position: absolute;width: 1px;}div.sk-estimator {font-family: monospace;background-color: #f0f8ff;margin: 0.25em 0.25em;border: 1px dotted black;border-radius: 0.25em;box-sizing: border-box;}div.sk-estimator:hover {background-color: #d4ebff;}div.sk-parallel-item::after {content: \"\";width: 100%;border-bottom: 1px solid gray;flex-grow: 1;}div.sk-label:hover label.sk-toggleable__label {background-color: #d4ebff;}div.sk-serial::before {content: \"\";position: absolute;border-left: 1px solid gray;box-sizing: border-box;top: 2em;bottom: 0;left: 50%;}div.sk-serial {display: flex;flex-direction: column;align-items: center;background-color: white;}div.sk-item {z-index: 1;}div.sk-parallel {display: flex;align-items: stretch;justify-content: center;background-color: white;}div.sk-parallel-item {display: flex;flex-direction: column;position: relative;background-color: white;}div.sk-parallel-item:first-child::after {align-self: flex-end;width: 50%;}div.sk-parallel-item:last-child::after {align-self: flex-start;width: 50%;}div.sk-parallel-item:only-child::after {width: 0;}div.sk-dashed-wrapped {border: 1px dashed gray;margin: 0.2em;box-sizing: border-box;padding-bottom: 0.1em;background-color: white;position: relative;}div.sk-label label {font-family: monospace;font-weight: bold;background-color: white;display: inline-block;line-height: 1.2em;}div.sk-label-container {position: relative;z-index: 2;text-align: center;}div.sk-container {display: inline-block;position: relative;}</style><div class=\"sk-top-container\"><div class=\"sk-container\"><div class=\"sk-item sk-dashed-wrapped\"><div class=\"sk-label-container\"><div class=\"sk-label sk-toggleable\"><input class=\"sk-toggleable__control sk-hidden--visually\" id=\"93658a6a-0010-4b13-a374-e5cd0e1594c6\" type=\"checkbox\" ><label class=\"sk-toggleable__label\" for=\"93658a6a-0010-4b13-a374-e5cd0e1594c6\">Pipeline</label><div class=\"sk-toggleable__content\"><pre>Pipeline(steps=[('data_preprocessing',\n",
       "                 ColumnTransformer(transformers=[('numerical_pre',\n",
       "                                                  Pipeline(steps=[('num_imputer',\n",
       "                                                                   SimpleImputer()),\n",
       "                                                                  ('num_scaler',\n",
       "                                                                   MinMaxScaler())]),\n",
       "                                                  ['Age upon Intake Days']),\n",
       "                                                 ('categorical_pre',\n",
       "                                                  Pipeline(steps=[('cat_imputer',\n",
       "                                                                   SimpleImputer(fill_value='missing',\n",
       "                                                                                 strategy='constant')),\n",
       "                                                                  ('cat_encoder',\n",
       "                                                                   OneHotEncoder(handle_unknown='ignore'))]),\n",
       "                                                  ['Sex upon Outcome',\n",
       "                                                   'Intake Type',\n",
       "                                                   'Intake Condition',\n",
       "                                                   'Pet Type',\n",
       "                                                   'Sex upon Intake']),\n",
       "                                                 ('text_pre_0',\n",
       "                                                  Pipeline(steps=[('text_vect_0',\n",
       "                                                                   CountVectorizer(binary=True,\n",
       "                                                                                   max_features=50))]),\n",
       "                                                  'Name'),\n",
       "                                                 ('text_pre_1',\n",
       "                                                  Pipeline(steps=[('text_vect_1',\n",
       "                                                                   CountVectorizer(binary=True,\n",
       "                                                                                   max_features=150))]),\n",
       "                                                  'Found Location')])),\n",
       "                ('dt', DecisionTreeClassifier())])</pre></div></div></div><div class=\"sk-serial\"><div class=\"sk-item sk-dashed-wrapped\"><div class=\"sk-label-container\"><div class=\"sk-label sk-toggleable\"><input class=\"sk-toggleable__control sk-hidden--visually\" id=\"31209cc6-0063-4703-b8c3-cb8b98bbbe27\" type=\"checkbox\" ><label class=\"sk-toggleable__label\" for=\"31209cc6-0063-4703-b8c3-cb8b98bbbe27\">data_preprocessing: ColumnTransformer</label><div class=\"sk-toggleable__content\"><pre>ColumnTransformer(transformers=[('numerical_pre',\n",
       "                                 Pipeline(steps=[('num_imputer',\n",
       "                                                  SimpleImputer()),\n",
       "                                                 ('num_scaler',\n",
       "                                                  MinMaxScaler())]),\n",
       "                                 ['Age upon Intake Days']),\n",
       "                                ('categorical_pre',\n",
       "                                 Pipeline(steps=[('cat_imputer',\n",
       "                                                  SimpleImputer(fill_value='missing',\n",
       "                                                                strategy='constant')),\n",
       "                                                 ('cat_encoder',\n",
       "                                                  OneHotEncoder(handle_unknown='ignore'))]),\n",
       "                                 ['Sex upon Outcome', 'Intake Type',\n",
       "                                  'Intake Condition', 'Pet Type',\n",
       "                                  'Sex upon Intake']),\n",
       "                                ('text_pre_0',\n",
       "                                 Pipeline(steps=[('text_vect_0',\n",
       "                                                  CountVectorizer(binary=True,\n",
       "                                                                  max_features=50))]),\n",
       "                                 'Name'),\n",
       "                                ('text_pre_1',\n",
       "                                 Pipeline(steps=[('text_vect_1',\n",
       "                                                  CountVectorizer(binary=True,\n",
       "                                                                  max_features=150))]),\n",
       "                                 'Found Location')])</pre></div></div></div><div class=\"sk-parallel\"><div class=\"sk-parallel-item\"><div class=\"sk-item\"><div class=\"sk-label-container\"><div class=\"sk-label sk-toggleable\"><input class=\"sk-toggleable__control sk-hidden--visually\" id=\"57b2b4a5-a7fb-4826-87f3-c12c775110f0\" type=\"checkbox\" ><label class=\"sk-toggleable__label\" for=\"57b2b4a5-a7fb-4826-87f3-c12c775110f0\">numerical_pre</label><div class=\"sk-toggleable__content\"><pre>['Age upon Intake Days']</pre></div></div></div><div class=\"sk-serial\"><div class=\"sk-item\"><div class=\"sk-serial\"><div class=\"sk-item\"><div class=\"sk-estimator sk-toggleable\"><input class=\"sk-toggleable__control sk-hidden--visually\" id=\"076823f0-e918-41a6-ae5e-70df8fbb556f\" type=\"checkbox\" ><label class=\"sk-toggleable__label\" for=\"076823f0-e918-41a6-ae5e-70df8fbb556f\">SimpleImputer</label><div class=\"sk-toggleable__content\"><pre>SimpleImputer()</pre></div></div></div><div class=\"sk-item\"><div class=\"sk-estimator sk-toggleable\"><input class=\"sk-toggleable__control sk-hidden--visually\" id=\"3b66737e-7386-4438-a2a5-f376f4f9399c\" type=\"checkbox\" ><label class=\"sk-toggleable__label\" for=\"3b66737e-7386-4438-a2a5-f376f4f9399c\">MinMaxScaler</label><div class=\"sk-toggleable__content\"><pre>MinMaxScaler()</pre></div></div></div></div></div></div></div></div><div class=\"sk-parallel-item\"><div class=\"sk-item\"><div class=\"sk-label-container\"><div class=\"sk-label sk-toggleable\"><input class=\"sk-toggleable__control sk-hidden--visually\" id=\"3e879c6d-7f9f-4a66-938f-95ee077b86fa\" type=\"checkbox\" ><label class=\"sk-toggleable__label\" for=\"3e879c6d-7f9f-4a66-938f-95ee077b86fa\">categorical_pre</label><div class=\"sk-toggleable__content\"><pre>['Sex upon Outcome', 'Intake Type', 'Intake Condition', 'Pet Type', 'Sex upon Intake']</pre></div></div></div><div class=\"sk-serial\"><div class=\"sk-item\"><div class=\"sk-serial\"><div class=\"sk-item\"><div class=\"sk-estimator sk-toggleable\"><input class=\"sk-toggleable__control sk-hidden--visually\" id=\"5fd0b358-a7f2-467c-9888-b1592684dfc9\" type=\"checkbox\" ><label class=\"sk-toggleable__label\" for=\"5fd0b358-a7f2-467c-9888-b1592684dfc9\">SimpleImputer</label><div class=\"sk-toggleable__content\"><pre>SimpleImputer(fill_value='missing', strategy='constant')</pre></div></div></div><div class=\"sk-item\"><div class=\"sk-estimator sk-toggleable\"><input class=\"sk-toggleable__control sk-hidden--visually\" id=\"f648e7c7-a6c5-4038-a57d-c9d268bd9864\" type=\"checkbox\" ><label class=\"sk-toggleable__label\" for=\"f648e7c7-a6c5-4038-a57d-c9d268bd9864\">OneHotEncoder</label><div class=\"sk-toggleable__content\"><pre>OneHotEncoder(handle_unknown='ignore')</pre></div></div></div></div></div></div></div></div><div class=\"sk-parallel-item\"><div class=\"sk-item\"><div class=\"sk-label-container\"><div class=\"sk-label sk-toggleable\"><input class=\"sk-toggleable__control sk-hidden--visually\" id=\"774e8d9b-d298-4a9e-a2a0-472711567cb3\" type=\"checkbox\" ><label class=\"sk-toggleable__label\" for=\"774e8d9b-d298-4a9e-a2a0-472711567cb3\">text_pre_0</label><div class=\"sk-toggleable__content\"><pre>Name</pre></div></div></div><div class=\"sk-serial\"><div class=\"sk-item\"><div class=\"sk-serial\"><div class=\"sk-item\"><div class=\"sk-estimator sk-toggleable\"><input class=\"sk-toggleable__control sk-hidden--visually\" id=\"4e0ac30a-fdf9-4acc-af06-5bba8f6080f6\" type=\"checkbox\" ><label class=\"sk-toggleable__label\" for=\"4e0ac30a-fdf9-4acc-af06-5bba8f6080f6\">CountVectorizer</label><div class=\"sk-toggleable__content\"><pre>CountVectorizer(binary=True, max_features=50)</pre></div></div></div></div></div></div></div></div><div class=\"sk-parallel-item\"><div class=\"sk-item\"><div class=\"sk-label-container\"><div class=\"sk-label sk-toggleable\"><input class=\"sk-toggleable__control sk-hidden--visually\" id=\"9c9bc51f-bf31-4c6d-8c0a-99456d8479aa\" type=\"checkbox\" ><label class=\"sk-toggleable__label\" for=\"9c9bc51f-bf31-4c6d-8c0a-99456d8479aa\">text_pre_1</label><div class=\"sk-toggleable__content\"><pre>Found Location</pre></div></div></div><div class=\"sk-serial\"><div class=\"sk-item\"><div class=\"sk-serial\"><div class=\"sk-item\"><div class=\"sk-estimator sk-toggleable\"><input class=\"sk-toggleable__control sk-hidden--visually\" id=\"b6f4e082-3867-40cd-8af7-65d73065bc61\" type=\"checkbox\" ><label class=\"sk-toggleable__label\" for=\"b6f4e082-3867-40cd-8af7-65d73065bc61\">CountVectorizer</label><div class=\"sk-toggleable__content\"><pre>CountVectorizer(binary=True, max_features=150)</pre></div></div></div></div></div></div></div></div></div></div><div class=\"sk-item\"><div class=\"sk-estimator sk-toggleable\"><input class=\"sk-toggleable__control sk-hidden--visually\" id=\"260f2436-7823-4433-93f1-44bf3e02e9be\" type=\"checkbox\" ><label class=\"sk-toggleable__label\" for=\"260f2436-7823-4433-93f1-44bf3e02e9be\">DecisionTreeClassifier</label><div class=\"sk-toggleable__content\"><pre>DecisionTreeClassifier()</pre></div></div></div></div></div></div></div>"
      ],
      "text/plain": [
       "Pipeline(steps=[('data_preprocessing',\n",
       "                 ColumnTransformer(transformers=[('numerical_pre',\n",
       "                                                  Pipeline(steps=[('num_imputer',\n",
       "                                                                   SimpleImputer()),\n",
       "                                                                  ('num_scaler',\n",
       "                                                                   MinMaxScaler())]),\n",
       "                                                  ['Age upon Intake Days']),\n",
       "                                                 ('categorical_pre',\n",
       "                                                  Pipeline(steps=[('cat_imputer',\n",
       "                                                                   SimpleImputer(fill_value='missing',\n",
       "                                                                                 strategy='constant')),\n",
       "                                                                  ('cat_encoder',\n",
       "                                                                   OneHotEncoder(handle_unknown='ignore'))]),\n",
       "                                                  ['Sex upon Outcome',\n",
       "                                                   'Intake Type',\n",
       "                                                   'Intake Condition',\n",
       "                                                   'Pet Type',\n",
       "                                                   'Sex upon Intake']),\n",
       "                                                 ('text_pre_0',\n",
       "                                                  Pipeline(steps=[('text_vect_0',\n",
       "                                                                   CountVectorizer(binary=True,\n",
       "                                                                                   max_features=50))]),\n",
       "                                                  'Name'),\n",
       "                                                 ('text_pre_1',\n",
       "                                                  Pipeline(steps=[('text_vect_1',\n",
       "                                                                   CountVectorizer(binary=True,\n",
       "                                                                                   max_features=150))]),\n",
       "                                                  'Found Location')])),\n",
       "                ('dt', DecisionTreeClassifier())])"
      ]
     },
     "execution_count": 63,
     "metadata": {},
     "output_type": "execute_result"
    }
   ],
   "source": [
    "from sklearn.impute import SimpleImputer\n",
    "from sklearn.preprocessing import OneHotEncoder, MinMaxScaler\n",
    "from sklearn.feature_extraction.text import CountVectorizer\n",
    "from sklearn.pipeline import Pipeline\n",
    "from sklearn.compose import ColumnTransformer\n",
    "from sklearn.tree import DecisionTreeClassifier\n",
    "from sklearn.metrics import classification_report\n",
    "from sklearn.metrics import accuracy_score\n",
    "\n",
    "\n",
    "### COLUMN_TRANSFORMER ###\n",
    "##########################\n",
    "\n",
    "# Preprocess the numerical features\n",
    "numerical_processor = Pipeline([\n",
    "    ('num_imputer', SimpleImputer(strategy='mean')),\n",
    "    ('num_scaler', MinMaxScaler()) # Shown in case is needed, not a must with Decision Trees\n",
    "                                ])\n",
    "                  \n",
    "# Preprocess the categorical features\n",
    "categorical_processor = Pipeline([\n",
    "    ('cat_imputer', SimpleImputer(strategy='constant', fill_value='missing')), # Shown in case is needed, no effect here as we already imputed with 'nan' strings\n",
    "    ('cat_encoder', OneHotEncoder(handle_unknown='ignore')) # handle_unknown tells it to ignore (rather than throw an error for) any value that was not present in the initial training set.\n",
    "                                ])\n",
    "\n",
    "# Preprocess 1st text feature\n",
    "text_processor_0 = Pipeline([\n",
    "    ('text_vect_0', CountVectorizer(binary=True, max_features=50))\n",
    "                                ])\n",
    "\n",
    "# Preprocess 2nd text feature (larger vocabulary)\n",
    "text_precessor_1 = Pipeline([\n",
    "    ('text_vect_1', CountVectorizer(binary=True, max_features=150))\n",
    "                                ])\n",
    "\n",
    "# Combine all data preprocessors from above (add more, if you choose to define more!)\n",
    "# For each processor/step specify: a name, the actual process, and finally the features to be processed\n",
    "data_preprocessor = ColumnTransformer([\n",
    "    ('numerical_pre', numerical_processor, numerical_features),\n",
    "    ('categorical_pre', categorical_processor, categorical_features),\n",
    "    ('text_pre_0', text_processor_0, text_features[0]),\n",
    "    ('text_pre_1', text_precessor_1, text_features[1])\n",
    "                                    ]) \n",
    "\n",
    "### DATA PREPROCESSING ###\n",
    "##########################\n",
    "# Get train data to train the network\n",
    "X_train = train_data[model_features]\n",
    "y_train = train_data[model_target]\n",
    "\n",
    "# Get validation data to validate the network \n",
    "X_val = val_data[model_features]\n",
    "y_val = val_data[model_target]\n",
    "\n",
    "# Get test data to test the network\n",
    "X_test = test_data[model_features]\n",
    "y_test = test_data[model_target]\n",
    "\n",
    "print('Datasets shapes before processing: ', X_train.shape, X_val.shape, X_test.shape)\n",
    "\n",
    "X_train = data_preprocessor.fit_transform(X_train).toarray()\n",
    "X_val = data_preprocessor.transform(X_val).toarray()\n",
    "X_test = data_preprocessor.transform(X_test).toarray()\n",
    "\n",
    "print('Datasets shapes after processing: ', X_train.shape, X_val.shape, X_test.shape)\n",
    "\n",
    "pipeline = Pipeline([\n",
    "    ('data_preprocessing', data_preprocessor),\n",
    "    ('dt', DecisionTreeClassifier())\n",
    "                    ])\n",
    "\n",
    "# Visualize the pipeline\n",
    "# This will come in handy especially when building more complex pipelines, stringing together multiple preprocessing steps\n",
    "from sklearn import set_config\n",
    "set_config(display='diagram')\n",
    "pipeline"
   ]
  },
  {
   "cell_type": "code",
   "execution_count": 64,
   "id": "finished-sight",
   "metadata": {},
   "outputs": [
    {
     "name": "stdout",
     "output_type": "stream",
     "text": [
      "[[4862   93]\n",
      " [ 220 4735]]\n",
      "              precision    recall  f1-score   support\n",
      "\n",
      "           0       0.96      0.98      0.97      4955\n",
      "           1       0.98      0.96      0.97      4955\n",
      "\n",
      "    accuracy                           0.97      9910\n",
      "   macro avg       0.97      0.97      0.97      9910\n",
      "weighted avg       0.97      0.97      0.97      9910\n",
      "\n",
      "Accuracy (training): 0.9684157416750757\n",
      "[[5196 1340]\n",
      " [ 139  479]]\n",
      "              precision    recall  f1-score   support\n",
      "\n",
      "           0       0.97      0.79      0.88      6536\n",
      "           1       0.26      0.78      0.39       618\n",
      "\n",
      "    accuracy                           0.79      7154\n",
      "   macro avg       0.62      0.79      0.63      7154\n",
      "weighted avg       0.91      0.79      0.83      7154\n",
      "\n",
      "Accuracy (test): 0.7932625104836455\n"
     ]
    }
   ],
   "source": [
    "from sklearn.metrics import confusion_matrix, classification_report, accuracy_score\n",
    "\n",
    "# Get train data to train the pipeline\n",
    "X_train = train_data[model_features]\n",
    "y_train = train_data[model_target]\n",
    "\n",
    "# Fit the Pipeline to training data\n",
    "pipeline.fit(X_train, y_train)\n",
    "\n",
    "# Use the fitted pipeline to make predictions on the train dataset\n",
    "train_predictions = pipeline.predict(X_train)\n",
    "print(confusion_matrix(y_train, train_predictions))\n",
    "print(classification_report(y_train, train_predictions))\n",
    "print(\"Accuracy (training):\", accuracy_score(y_train, train_predictions))\n",
    "\n",
    "# Get test data to test the pipeline\n",
    "X_test = test_data[model_features]\n",
    "y_test = test_data[model_target]\n",
    "\n",
    "# Use the fitted pipeline to make predictions on the test dataset\n",
    "test_predictions = pipeline.predict(X_test)\n",
    "print(confusion_matrix(y_test, test_predictions))\n",
    "print(classification_report(y_test, test_predictions))\n",
    "print(\"Accuracy (test):\", accuracy_score(y_test, test_predictions))"
   ]
  },
  {
   "cell_type": "code",
   "execution_count": 65,
   "id": "boolean-verification",
   "metadata": {},
   "outputs": [
    {
     "name": "stdout",
     "output_type": "stream",
     "text": [
      "Fitting 5 folds for each of 27 candidates, totalling 135 fits\n"
     ]
    },
    {
     "data": {
      "text/html": [
       "<style>div.sk-top-container {color: black;background-color: white;}div.sk-toggleable {background-color: white;}label.sk-toggleable__label {cursor: pointer;display: block;width: 100%;margin-bottom: 0;padding: 0.2em 0.3em;box-sizing: border-box;text-align: center;}div.sk-toggleable__content {max-height: 0;max-width: 0;overflow: hidden;text-align: left;background-color: #f0f8ff;}div.sk-toggleable__content pre {margin: 0.2em;color: black;border-radius: 0.25em;background-color: #f0f8ff;}input.sk-toggleable__control:checked~div.sk-toggleable__content {max-height: 200px;max-width: 100%;overflow: auto;}div.sk-estimator input.sk-toggleable__control:checked~label.sk-toggleable__label {background-color: #d4ebff;}div.sk-label input.sk-toggleable__control:checked~label.sk-toggleable__label {background-color: #d4ebff;}input.sk-hidden--visually {border: 0;clip: rect(1px 1px 1px 1px);clip: rect(1px, 1px, 1px, 1px);height: 1px;margin: -1px;overflow: hidden;padding: 0;position: absolute;width: 1px;}div.sk-estimator {font-family: monospace;background-color: #f0f8ff;margin: 0.25em 0.25em;border: 1px dotted black;border-radius: 0.25em;box-sizing: border-box;}div.sk-estimator:hover {background-color: #d4ebff;}div.sk-parallel-item::after {content: \"\";width: 100%;border-bottom: 1px solid gray;flex-grow: 1;}div.sk-label:hover label.sk-toggleable__label {background-color: #d4ebff;}div.sk-serial::before {content: \"\";position: absolute;border-left: 1px solid gray;box-sizing: border-box;top: 2em;bottom: 0;left: 50%;}div.sk-serial {display: flex;flex-direction: column;align-items: center;background-color: white;}div.sk-item {z-index: 1;}div.sk-parallel {display: flex;align-items: stretch;justify-content: center;background-color: white;}div.sk-parallel-item {display: flex;flex-direction: column;position: relative;background-color: white;}div.sk-parallel-item:first-child::after {align-self: flex-end;width: 50%;}div.sk-parallel-item:last-child::after {align-self: flex-start;width: 50%;}div.sk-parallel-item:only-child::after {width: 0;}div.sk-dashed-wrapped {border: 1px dashed gray;margin: 0.2em;box-sizing: border-box;padding-bottom: 0.1em;background-color: white;position: relative;}div.sk-label label {font-family: monospace;font-weight: bold;background-color: white;display: inline-block;line-height: 1.2em;}div.sk-label-container {position: relative;z-index: 2;text-align: center;}div.sk-container {display: inline-block;position: relative;}</style><div class=\"sk-top-container\"><div class=\"sk-container\"><div class=\"sk-item sk-dashed-wrapped\"><div class=\"sk-label-container\"><div class=\"sk-label sk-toggleable\"><input class=\"sk-toggleable__control sk-hidden--visually\" id=\"f6803923-0c3c-496b-b17e-dc2a7995f9a6\" type=\"checkbox\" ><label class=\"sk-toggleable__label\" for=\"f6803923-0c3c-496b-b17e-dc2a7995f9a6\">GridSearchCV</label><div class=\"sk-toggleable__content\"><pre>GridSearchCV(cv=5,\n",
       "             estimator=Pipeline(steps=[('data_preprocessing',\n",
       "                                        ColumnTransformer(transformers=[('numerical_pre',\n",
       "                                                                         Pipeline(steps=[('num_imputer',\n",
       "                                                                                          SimpleImputer()),\n",
       "                                                                                         ('num_scaler',\n",
       "                                                                                          MinMaxScaler())]),\n",
       "                                                                         ['Age '\n",
       "                                                                          'upon '\n",
       "                                                                          'Intake '\n",
       "                                                                          'Days']),\n",
       "                                                                        ('categorical_pre',\n",
       "                                                                         Pipeline(steps=[('cat_imputer',\n",
       "                                                                                          SimpleImputer(fill_value='missing',\n",
       "                                                                                                        strategy='constant')),\n",
       "                                                                                         ('cat_encoder',\n",
       "                                                                                          OneH...\n",
       "                                                                         Pipeline(steps=[('text_vect_0',\n",
       "                                                                                          CountVectorizer(binary=True,\n",
       "                                                                                                          max_features=50))]),\n",
       "                                                                         'Name'),\n",
       "                                                                        ('text_pre_1',\n",
       "                                                                         Pipeline(steps=[('text_vect_1',\n",
       "                                                                                          CountVectorizer(binary=True,\n",
       "                                                                                                          max_features=150))]),\n",
       "                                                                         'Found '\n",
       "                                                                         'Location')])),\n",
       "                                       ('dt', DecisionTreeClassifier())]),\n",
       "             n_jobs=-1,\n",
       "             param_grid={'dt__max_depth': [100, 200, 300],\n",
       "                         'dt__min_samples_leaf': [5, 10, 15],\n",
       "                         'dt__min_samples_split': [2, 5, 15]},\n",
       "             verbose=1)</pre></div></div></div><div class=\"sk-parallel\"><div class=\"sk-parallel-item\"><div class=\"sk-item\"><div class=\"sk-serial\"><div class=\"sk-item\"><div class=\"sk-serial\"><div class=\"sk-item sk-dashed-wrapped\"><div class=\"sk-label-container\"><div class=\"sk-label sk-toggleable\"><input class=\"sk-toggleable__control sk-hidden--visually\" id=\"8ac2f7a2-ef43-499a-a187-9164d15858bb\" type=\"checkbox\" ><label class=\"sk-toggleable__label\" for=\"8ac2f7a2-ef43-499a-a187-9164d15858bb\">data_preprocessing: ColumnTransformer</label><div class=\"sk-toggleable__content\"><pre>ColumnTransformer(transformers=[('numerical_pre',\n",
       "                                 Pipeline(steps=[('num_imputer',\n",
       "                                                  SimpleImputer()),\n",
       "                                                 ('num_scaler',\n",
       "                                                  MinMaxScaler())]),\n",
       "                                 ['Age upon Intake Days']),\n",
       "                                ('categorical_pre',\n",
       "                                 Pipeline(steps=[('cat_imputer',\n",
       "                                                  SimpleImputer(fill_value='missing',\n",
       "                                                                strategy='constant')),\n",
       "                                                 ('cat_encoder',\n",
       "                                                  OneHotEncoder(handle_unknown='ignore'))]),\n",
       "                                 ['Sex upon Outcome', 'Intake Type',\n",
       "                                  'Intake Condition', 'Pet Type',\n",
       "                                  'Sex upon Intake']),\n",
       "                                ('text_pre_0',\n",
       "                                 Pipeline(steps=[('text_vect_0',\n",
       "                                                  CountVectorizer(binary=True,\n",
       "                                                                  max_features=50))]),\n",
       "                                 'Name'),\n",
       "                                ('text_pre_1',\n",
       "                                 Pipeline(steps=[('text_vect_1',\n",
       "                                                  CountVectorizer(binary=True,\n",
       "                                                                  max_features=150))]),\n",
       "                                 'Found Location')])</pre></div></div></div><div class=\"sk-parallel\"><div class=\"sk-parallel-item\"><div class=\"sk-item\"><div class=\"sk-label-container\"><div class=\"sk-label sk-toggleable\"><input class=\"sk-toggleable__control sk-hidden--visually\" id=\"f0a0f59b-fc13-4cff-bd02-a3f2dd823e96\" type=\"checkbox\" ><label class=\"sk-toggleable__label\" for=\"f0a0f59b-fc13-4cff-bd02-a3f2dd823e96\">numerical_pre</label><div class=\"sk-toggleable__content\"><pre>['Age upon Intake Days']</pre></div></div></div><div class=\"sk-serial\"><div class=\"sk-item\"><div class=\"sk-serial\"><div class=\"sk-item\"><div class=\"sk-estimator sk-toggleable\"><input class=\"sk-toggleable__control sk-hidden--visually\" id=\"82651565-4c5c-467e-be04-a4085157bf18\" type=\"checkbox\" ><label class=\"sk-toggleable__label\" for=\"82651565-4c5c-467e-be04-a4085157bf18\">SimpleImputer</label><div class=\"sk-toggleable__content\"><pre>SimpleImputer()</pre></div></div></div><div class=\"sk-item\"><div class=\"sk-estimator sk-toggleable\"><input class=\"sk-toggleable__control sk-hidden--visually\" id=\"4b4eec79-e254-4617-a5af-453dbf5baf2b\" type=\"checkbox\" ><label class=\"sk-toggleable__label\" for=\"4b4eec79-e254-4617-a5af-453dbf5baf2b\">MinMaxScaler</label><div class=\"sk-toggleable__content\"><pre>MinMaxScaler()</pre></div></div></div></div></div></div></div></div><div class=\"sk-parallel-item\"><div class=\"sk-item\"><div class=\"sk-label-container\"><div class=\"sk-label sk-toggleable\"><input class=\"sk-toggleable__control sk-hidden--visually\" id=\"3647ec33-2ad5-4f22-9843-181e041af97e\" type=\"checkbox\" ><label class=\"sk-toggleable__label\" for=\"3647ec33-2ad5-4f22-9843-181e041af97e\">categorical_pre</label><div class=\"sk-toggleable__content\"><pre>['Sex upon Outcome', 'Intake Type', 'Intake Condition', 'Pet Type', 'Sex upon Intake']</pre></div></div></div><div class=\"sk-serial\"><div class=\"sk-item\"><div class=\"sk-serial\"><div class=\"sk-item\"><div class=\"sk-estimator sk-toggleable\"><input class=\"sk-toggleable__control sk-hidden--visually\" id=\"6cbc16a7-804d-486c-9781-6f3806b28c0c\" type=\"checkbox\" ><label class=\"sk-toggleable__label\" for=\"6cbc16a7-804d-486c-9781-6f3806b28c0c\">SimpleImputer</label><div class=\"sk-toggleable__content\"><pre>SimpleImputer(fill_value='missing', strategy='constant')</pre></div></div></div><div class=\"sk-item\"><div class=\"sk-estimator sk-toggleable\"><input class=\"sk-toggleable__control sk-hidden--visually\" id=\"69b3809d-0271-4f75-b521-b73a9d2aba6a\" type=\"checkbox\" ><label class=\"sk-toggleable__label\" for=\"69b3809d-0271-4f75-b521-b73a9d2aba6a\">OneHotEncoder</label><div class=\"sk-toggleable__content\"><pre>OneHotEncoder(handle_unknown='ignore')</pre></div></div></div></div></div></div></div></div><div class=\"sk-parallel-item\"><div class=\"sk-item\"><div class=\"sk-label-container\"><div class=\"sk-label sk-toggleable\"><input class=\"sk-toggleable__control sk-hidden--visually\" id=\"bbe8363f-89b6-4e63-879f-2f631064635b\" type=\"checkbox\" ><label class=\"sk-toggleable__label\" for=\"bbe8363f-89b6-4e63-879f-2f631064635b\">text_pre_0</label><div class=\"sk-toggleable__content\"><pre>Name</pre></div></div></div><div class=\"sk-serial\"><div class=\"sk-item\"><div class=\"sk-serial\"><div class=\"sk-item\"><div class=\"sk-estimator sk-toggleable\"><input class=\"sk-toggleable__control sk-hidden--visually\" id=\"806f350f-ccbd-4acb-9aa1-fa6010fb1bc0\" type=\"checkbox\" ><label class=\"sk-toggleable__label\" for=\"806f350f-ccbd-4acb-9aa1-fa6010fb1bc0\">CountVectorizer</label><div class=\"sk-toggleable__content\"><pre>CountVectorizer(binary=True, max_features=50)</pre></div></div></div></div></div></div></div></div><div class=\"sk-parallel-item\"><div class=\"sk-item\"><div class=\"sk-label-container\"><div class=\"sk-label sk-toggleable\"><input class=\"sk-toggleable__control sk-hidden--visually\" id=\"7437dac2-287d-4f83-8858-d0dcb35f82e6\" type=\"checkbox\" ><label class=\"sk-toggleable__label\" for=\"7437dac2-287d-4f83-8858-d0dcb35f82e6\">text_pre_1</label><div class=\"sk-toggleable__content\"><pre>Found Location</pre></div></div></div><div class=\"sk-serial\"><div class=\"sk-item\"><div class=\"sk-serial\"><div class=\"sk-item\"><div class=\"sk-estimator sk-toggleable\"><input class=\"sk-toggleable__control sk-hidden--visually\" id=\"5600a237-c05b-4f67-8238-16603cba7333\" type=\"checkbox\" ><label class=\"sk-toggleable__label\" for=\"5600a237-c05b-4f67-8238-16603cba7333\">CountVectorizer</label><div class=\"sk-toggleable__content\"><pre>CountVectorizer(binary=True, max_features=150)</pre></div></div></div></div></div></div></div></div></div></div><div class=\"sk-item\"><div class=\"sk-estimator sk-toggleable\"><input class=\"sk-toggleable__control sk-hidden--visually\" id=\"b48f3ffc-baa6-4fc2-8d3d-0890198dda9a\" type=\"checkbox\" ><label class=\"sk-toggleable__label\" for=\"b48f3ffc-baa6-4fc2-8d3d-0890198dda9a\">DecisionTreeClassifier</label><div class=\"sk-toggleable__content\"><pre>DecisionTreeClassifier()</pre></div></div></div></div></div></div></div></div></div></div></div></div>"
      ],
      "text/plain": [
       "GridSearchCV(cv=5,\n",
       "             estimator=Pipeline(steps=[('data_preprocessing',\n",
       "                                        ColumnTransformer(transformers=[('numerical_pre',\n",
       "                                                                         Pipeline(steps=[('num_imputer',\n",
       "                                                                                          SimpleImputer()),\n",
       "                                                                                         ('num_scaler',\n",
       "                                                                                          MinMaxScaler())]),\n",
       "                                                                         ['Age '\n",
       "                                                                          'upon '\n",
       "                                                                          'Intake '\n",
       "                                                                          'Days']),\n",
       "                                                                        ('categorical_pre',\n",
       "                                                                         Pipeline(steps=[('cat_imputer',\n",
       "                                                                                          SimpleImputer(fill_value='missing',\n",
       "                                                                                                        strategy='constant')),\n",
       "                                                                                         ('cat_encoder',\n",
       "                                                                                          OneH...\n",
       "                                                                         Pipeline(steps=[('text_vect_0',\n",
       "                                                                                          CountVectorizer(binary=True,\n",
       "                                                                                                          max_features=50))]),\n",
       "                                                                         'Name'),\n",
       "                                                                        ('text_pre_1',\n",
       "                                                                         Pipeline(steps=[('text_vect_1',\n",
       "                                                                                          CountVectorizer(binary=True,\n",
       "                                                                                                          max_features=150))]),\n",
       "                                                                         'Found '\n",
       "                                                                         'Location')])),\n",
       "                                       ('dt', DecisionTreeClassifier())]),\n",
       "             n_jobs=-1,\n",
       "             param_grid={'dt__max_depth': [100, 200, 300],\n",
       "                         'dt__min_samples_leaf': [5, 10, 15],\n",
       "                         'dt__min_samples_split': [2, 5, 15]},\n",
       "             verbose=1)"
      ]
     },
     "execution_count": 65,
     "metadata": {},
     "output_type": "execute_result"
    }
   ],
   "source": [
    "from sklearn.model_selection import GridSearchCV, RandomizedSearchCV\n",
    "\n",
    "### PIPELINE GRID_SEARCH ###\n",
    "############################\n",
    "\n",
    "# Parameter grid for GridSearch\n",
    "param_grid={'dt__max_depth': [100, 200, 300],#, 50, 75, 100, 125, 150, 200, 250], \n",
    "            'dt__min_samples_leaf': [5, 10, 15],#, 25, 30],\n",
    "            'dt__min_samples_split': [2, 5, 15]#, 25, 30, 45, 50]\n",
    "           }\n",
    "\n",
    "grid_search = GridSearchCV(pipeline, # Base model\n",
    "                           param_grid, # Parameters to try\n",
    "                           cv = 5, # Apply 5-fold cross validation\n",
    "                           verbose = 1, # Print summary\n",
    "                           n_jobs = -1 # Use all available processors\n",
    "                          )\n",
    "\n",
    "# Fit the GridSearch to our training data\n",
    "grid_search.fit(X_train, y_train)"
   ]
  },
  {
   "cell_type": "code",
   "execution_count": 66,
   "id": "pending-working",
   "metadata": {},
   "outputs": [
    {
     "name": "stdout",
     "output_type": "stream",
     "text": [
      "{'dt__max_depth': 100, 'dt__min_samples_leaf': 10, 'dt__min_samples_split': 2}\n",
      "0.8211907164480323\n"
     ]
    },
    {
     "data": {
      "text/html": [
       "<style>div.sk-top-container {color: black;background-color: white;}div.sk-toggleable {background-color: white;}label.sk-toggleable__label {cursor: pointer;display: block;width: 100%;margin-bottom: 0;padding: 0.2em 0.3em;box-sizing: border-box;text-align: center;}div.sk-toggleable__content {max-height: 0;max-width: 0;overflow: hidden;text-align: left;background-color: #f0f8ff;}div.sk-toggleable__content pre {margin: 0.2em;color: black;border-radius: 0.25em;background-color: #f0f8ff;}input.sk-toggleable__control:checked~div.sk-toggleable__content {max-height: 200px;max-width: 100%;overflow: auto;}div.sk-estimator input.sk-toggleable__control:checked~label.sk-toggleable__label {background-color: #d4ebff;}div.sk-label input.sk-toggleable__control:checked~label.sk-toggleable__label {background-color: #d4ebff;}input.sk-hidden--visually {border: 0;clip: rect(1px 1px 1px 1px);clip: rect(1px, 1px, 1px, 1px);height: 1px;margin: -1px;overflow: hidden;padding: 0;position: absolute;width: 1px;}div.sk-estimator {font-family: monospace;background-color: #f0f8ff;margin: 0.25em 0.25em;border: 1px dotted black;border-radius: 0.25em;box-sizing: border-box;}div.sk-estimator:hover {background-color: #d4ebff;}div.sk-parallel-item::after {content: \"\";width: 100%;border-bottom: 1px solid gray;flex-grow: 1;}div.sk-label:hover label.sk-toggleable__label {background-color: #d4ebff;}div.sk-serial::before {content: \"\";position: absolute;border-left: 1px solid gray;box-sizing: border-box;top: 2em;bottom: 0;left: 50%;}div.sk-serial {display: flex;flex-direction: column;align-items: center;background-color: white;}div.sk-item {z-index: 1;}div.sk-parallel {display: flex;align-items: stretch;justify-content: center;background-color: white;}div.sk-parallel-item {display: flex;flex-direction: column;position: relative;background-color: white;}div.sk-parallel-item:first-child::after {align-self: flex-end;width: 50%;}div.sk-parallel-item:last-child::after {align-self: flex-start;width: 50%;}div.sk-parallel-item:only-child::after {width: 0;}div.sk-dashed-wrapped {border: 1px dashed gray;margin: 0.2em;box-sizing: border-box;padding-bottom: 0.1em;background-color: white;position: relative;}div.sk-label label {font-family: monospace;font-weight: bold;background-color: white;display: inline-block;line-height: 1.2em;}div.sk-label-container {position: relative;z-index: 2;text-align: center;}div.sk-container {display: inline-block;position: relative;}</style><div class=\"sk-top-container\"><div class=\"sk-container\"><div class=\"sk-item sk-dashed-wrapped\"><div class=\"sk-label-container\"><div class=\"sk-label sk-toggleable\"><input class=\"sk-toggleable__control sk-hidden--visually\" id=\"0cb9e38a-4b03-4199-ac2f-b5ecae1a3ca4\" type=\"checkbox\" ><label class=\"sk-toggleable__label\" for=\"0cb9e38a-4b03-4199-ac2f-b5ecae1a3ca4\">Pipeline</label><div class=\"sk-toggleable__content\"><pre>Pipeline(steps=[('data_preprocessing',\n",
       "                 ColumnTransformer(transformers=[('numerical_pre',\n",
       "                                                  Pipeline(steps=[('num_imputer',\n",
       "                                                                   SimpleImputer()),\n",
       "                                                                  ('num_scaler',\n",
       "                                                                   MinMaxScaler())]),\n",
       "                                                  ['Age upon Intake Days']),\n",
       "                                                 ('categorical_pre',\n",
       "                                                  Pipeline(steps=[('cat_imputer',\n",
       "                                                                   SimpleImputer(fill_value='missing',\n",
       "                                                                                 strategy='constant')),\n",
       "                                                                  ('cat_encoder',\n",
       "                                                                   OneHotEncoder(handle_unknown='ignore')...\n",
       "                                                  ['Sex upon Outcome',\n",
       "                                                   'Intake Type',\n",
       "                                                   'Intake Condition',\n",
       "                                                   'Pet Type',\n",
       "                                                   'Sex upon Intake']),\n",
       "                                                 ('text_pre_0',\n",
       "                                                  Pipeline(steps=[('text_vect_0',\n",
       "                                                                   CountVectorizer(binary=True,\n",
       "                                                                                   max_features=50))]),\n",
       "                                                  'Name'),\n",
       "                                                 ('text_pre_1',\n",
       "                                                  Pipeline(steps=[('text_vect_1',\n",
       "                                                                   CountVectorizer(binary=True,\n",
       "                                                                                   max_features=150))]),\n",
       "                                                  'Found Location')])),\n",
       "                ('dt',\n",
       "                 DecisionTreeClassifier(max_depth=100, min_samples_leaf=10))])</pre></div></div></div><div class=\"sk-serial\"><div class=\"sk-item sk-dashed-wrapped\"><div class=\"sk-label-container\"><div class=\"sk-label sk-toggleable\"><input class=\"sk-toggleable__control sk-hidden--visually\" id=\"1f624d3b-d59a-45f0-984d-2d88a5e46df4\" type=\"checkbox\" ><label class=\"sk-toggleable__label\" for=\"1f624d3b-d59a-45f0-984d-2d88a5e46df4\">data_preprocessing: ColumnTransformer</label><div class=\"sk-toggleable__content\"><pre>ColumnTransformer(transformers=[('numerical_pre',\n",
       "                                 Pipeline(steps=[('num_imputer',\n",
       "                                                  SimpleImputer()),\n",
       "                                                 ('num_scaler',\n",
       "                                                  MinMaxScaler())]),\n",
       "                                 ['Age upon Intake Days']),\n",
       "                                ('categorical_pre',\n",
       "                                 Pipeline(steps=[('cat_imputer',\n",
       "                                                  SimpleImputer(fill_value='missing',\n",
       "                                                                strategy='constant')),\n",
       "                                                 ('cat_encoder',\n",
       "                                                  OneHotEncoder(handle_unknown='ignore'))]),\n",
       "                                 ['Sex upon Outcome', 'Intake Type',\n",
       "                                  'Intake Condition', 'Pet Type',\n",
       "                                  'Sex upon Intake']),\n",
       "                                ('text_pre_0',\n",
       "                                 Pipeline(steps=[('text_vect_0',\n",
       "                                                  CountVectorizer(binary=True,\n",
       "                                                                  max_features=50))]),\n",
       "                                 'Name'),\n",
       "                                ('text_pre_1',\n",
       "                                 Pipeline(steps=[('text_vect_1',\n",
       "                                                  CountVectorizer(binary=True,\n",
       "                                                                  max_features=150))]),\n",
       "                                 'Found Location')])</pre></div></div></div><div class=\"sk-parallel\"><div class=\"sk-parallel-item\"><div class=\"sk-item\"><div class=\"sk-label-container\"><div class=\"sk-label sk-toggleable\"><input class=\"sk-toggleable__control sk-hidden--visually\" id=\"19399663-f77d-4961-a451-4a3d77da9c73\" type=\"checkbox\" ><label class=\"sk-toggleable__label\" for=\"19399663-f77d-4961-a451-4a3d77da9c73\">numerical_pre</label><div class=\"sk-toggleable__content\"><pre>['Age upon Intake Days']</pre></div></div></div><div class=\"sk-serial\"><div class=\"sk-item\"><div class=\"sk-serial\"><div class=\"sk-item\"><div class=\"sk-estimator sk-toggleable\"><input class=\"sk-toggleable__control sk-hidden--visually\" id=\"97b30641-9c7a-4be3-9fb4-05f74c92ad37\" type=\"checkbox\" ><label class=\"sk-toggleable__label\" for=\"97b30641-9c7a-4be3-9fb4-05f74c92ad37\">SimpleImputer</label><div class=\"sk-toggleable__content\"><pre>SimpleImputer()</pre></div></div></div><div class=\"sk-item\"><div class=\"sk-estimator sk-toggleable\"><input class=\"sk-toggleable__control sk-hidden--visually\" id=\"c1e68381-41ac-4167-8693-90e2d3f5fc14\" type=\"checkbox\" ><label class=\"sk-toggleable__label\" for=\"c1e68381-41ac-4167-8693-90e2d3f5fc14\">MinMaxScaler</label><div class=\"sk-toggleable__content\"><pre>MinMaxScaler()</pre></div></div></div></div></div></div></div></div><div class=\"sk-parallel-item\"><div class=\"sk-item\"><div class=\"sk-label-container\"><div class=\"sk-label sk-toggleable\"><input class=\"sk-toggleable__control sk-hidden--visually\" id=\"a27bb95a-2da9-4f98-9a34-2e64d3a6a923\" type=\"checkbox\" ><label class=\"sk-toggleable__label\" for=\"a27bb95a-2da9-4f98-9a34-2e64d3a6a923\">categorical_pre</label><div class=\"sk-toggleable__content\"><pre>['Sex upon Outcome', 'Intake Type', 'Intake Condition', 'Pet Type', 'Sex upon Intake']</pre></div></div></div><div class=\"sk-serial\"><div class=\"sk-item\"><div class=\"sk-serial\"><div class=\"sk-item\"><div class=\"sk-estimator sk-toggleable\"><input class=\"sk-toggleable__control sk-hidden--visually\" id=\"8bc0982f-fd9b-4493-91a2-093330b17da9\" type=\"checkbox\" ><label class=\"sk-toggleable__label\" for=\"8bc0982f-fd9b-4493-91a2-093330b17da9\">SimpleImputer</label><div class=\"sk-toggleable__content\"><pre>SimpleImputer(fill_value='missing', strategy='constant')</pre></div></div></div><div class=\"sk-item\"><div class=\"sk-estimator sk-toggleable\"><input class=\"sk-toggleable__control sk-hidden--visually\" id=\"e5a3bc7b-1343-43a5-b1a7-194b05f7be12\" type=\"checkbox\" ><label class=\"sk-toggleable__label\" for=\"e5a3bc7b-1343-43a5-b1a7-194b05f7be12\">OneHotEncoder</label><div class=\"sk-toggleable__content\"><pre>OneHotEncoder(handle_unknown='ignore')</pre></div></div></div></div></div></div></div></div><div class=\"sk-parallel-item\"><div class=\"sk-item\"><div class=\"sk-label-container\"><div class=\"sk-label sk-toggleable\"><input class=\"sk-toggleable__control sk-hidden--visually\" id=\"0a4c7a26-7a7e-4c40-8b88-54bb27608faa\" type=\"checkbox\" ><label class=\"sk-toggleable__label\" for=\"0a4c7a26-7a7e-4c40-8b88-54bb27608faa\">text_pre_0</label><div class=\"sk-toggleable__content\"><pre>Name</pre></div></div></div><div class=\"sk-serial\"><div class=\"sk-item\"><div class=\"sk-serial\"><div class=\"sk-item\"><div class=\"sk-estimator sk-toggleable\"><input class=\"sk-toggleable__control sk-hidden--visually\" id=\"8fe9c50f-3118-43d7-b0bd-e16938db01e2\" type=\"checkbox\" ><label class=\"sk-toggleable__label\" for=\"8fe9c50f-3118-43d7-b0bd-e16938db01e2\">CountVectorizer</label><div class=\"sk-toggleable__content\"><pre>CountVectorizer(binary=True, max_features=50)</pre></div></div></div></div></div></div></div></div><div class=\"sk-parallel-item\"><div class=\"sk-item\"><div class=\"sk-label-container\"><div class=\"sk-label sk-toggleable\"><input class=\"sk-toggleable__control sk-hidden--visually\" id=\"e7233631-da77-4138-a217-067832483ab1\" type=\"checkbox\" ><label class=\"sk-toggleable__label\" for=\"e7233631-da77-4138-a217-067832483ab1\">text_pre_1</label><div class=\"sk-toggleable__content\"><pre>Found Location</pre></div></div></div><div class=\"sk-serial\"><div class=\"sk-item\"><div class=\"sk-serial\"><div class=\"sk-item\"><div class=\"sk-estimator sk-toggleable\"><input class=\"sk-toggleable__control sk-hidden--visually\" id=\"e30be1b9-ad01-45fd-be5d-36169d25183e\" type=\"checkbox\" ><label class=\"sk-toggleable__label\" for=\"e30be1b9-ad01-45fd-be5d-36169d25183e\">CountVectorizer</label><div class=\"sk-toggleable__content\"><pre>CountVectorizer(binary=True, max_features=150)</pre></div></div></div></div></div></div></div></div></div></div><div class=\"sk-item\"><div class=\"sk-estimator sk-toggleable\"><input class=\"sk-toggleable__control sk-hidden--visually\" id=\"3235d399-52b9-474d-978f-c6f373fa5a13\" type=\"checkbox\" ><label class=\"sk-toggleable__label\" for=\"3235d399-52b9-474d-978f-c6f373fa5a13\">DecisionTreeClassifier</label><div class=\"sk-toggleable__content\"><pre>DecisionTreeClassifier(max_depth=100, min_samples_leaf=10)</pre></div></div></div></div></div></div></div>"
      ],
      "text/plain": [
       "Pipeline(steps=[('data_preprocessing',\n",
       "                 ColumnTransformer(transformers=[('numerical_pre',\n",
       "                                                  Pipeline(steps=[('num_imputer',\n",
       "                                                                   SimpleImputer()),\n",
       "                                                                  ('num_scaler',\n",
       "                                                                   MinMaxScaler())]),\n",
       "                                                  ['Age upon Intake Days']),\n",
       "                                                 ('categorical_pre',\n",
       "                                                  Pipeline(steps=[('cat_imputer',\n",
       "                                                                   SimpleImputer(fill_value='missing',\n",
       "                                                                                 strategy='constant')),\n",
       "                                                                  ('cat_encoder',\n",
       "                                                                   OneHotEncoder(handle_unknown='ignore')...\n",
       "                                                  ['Sex upon Outcome',\n",
       "                                                   'Intake Type',\n",
       "                                                   'Intake Condition',\n",
       "                                                   'Pet Type',\n",
       "                                                   'Sex upon Intake']),\n",
       "                                                 ('text_pre_0',\n",
       "                                                  Pipeline(steps=[('text_vect_0',\n",
       "                                                                   CountVectorizer(binary=True,\n",
       "                                                                                   max_features=50))]),\n",
       "                                                  'Name'),\n",
       "                                                 ('text_pre_1',\n",
       "                                                  Pipeline(steps=[('text_vect_1',\n",
       "                                                                   CountVectorizer(binary=True,\n",
       "                                                                                   max_features=150))]),\n",
       "                                                  'Found Location')])),\n",
       "                ('dt',\n",
       "                 DecisionTreeClassifier(max_depth=100, min_samples_leaf=10))])"
      ]
     },
     "execution_count": 66,
     "metadata": {},
     "output_type": "execute_result"
    }
   ],
   "source": [
    "print(grid_search.best_params_)\n",
    "print(grid_search.best_score_)\n",
    "\n",
    "# Get the best model out of GridSearchCV\n",
    "classifier = grid_search.best_estimator_\n",
    "\n",
    "# Fit the best model to the train data once more\n",
    "classifier.fit(X_train, y_train)"
   ]
  },
  {
   "cell_type": "code",
   "execution_count": 67,
   "id": "therapeutic-thanks",
   "metadata": {},
   "outputs": [
    {
     "name": "stdout",
     "output_type": "stream",
     "text": [
      "Model performance on the train set:\n",
      "[[4395  560]\n",
      " [ 954 4001]]\n",
      "              precision    recall  f1-score   support\n",
      "\n",
      "           0       0.82      0.89      0.85      4955\n",
      "           1       0.88      0.81      0.84      4955\n",
      "\n",
      "    accuracy                           0.85      9910\n",
      "   macro avg       0.85      0.85      0.85      9910\n",
      "weighted avg       0.85      0.85      0.85      9910\n",
      "\n",
      "Train accuracy: 0.8472250252270433\n"
     ]
    }
   ],
   "source": [
    "from sklearn.metrics import confusion_matrix, classification_report, accuracy_score\n",
    "\n",
    "# Use the fitted model to make predictions on the train dataset\n",
    "train_predictions = classifier.predict(X_train)\n",
    "\n",
    "print('Model performance on the train set:')\n",
    "print(confusion_matrix(y_train, train_predictions))\n",
    "print(classification_report(y_train, train_predictions))\n",
    "print(\"Train accuracy:\", accuracy_score(y_train, train_predictions))  "
   ]
  },
  {
   "cell_type": "code",
   "execution_count": 68,
   "id": "thick-corps",
   "metadata": {},
   "outputs": [
    {
     "name": "stdout",
     "output_type": "stream",
     "text": [
      "Model performance on the test set:\n",
      "[[5632  904]\n",
      " [ 121  497]]\n",
      "              precision    recall  f1-score   support\n",
      "\n",
      "           0       0.98      0.86      0.92      6536\n",
      "           1       0.35      0.80      0.49       618\n",
      "\n",
      "    accuracy                           0.86      7154\n",
      "   macro avg       0.67      0.83      0.70      7154\n",
      "weighted avg       0.93      0.86      0.88      7154\n",
      "\n",
      "Test accuracy: 0.8567235113223372\n"
     ]
    }
   ],
   "source": [
    "from sklearn.metrics import confusion_matrix, classification_report, accuracy_score\n",
    "\n",
    "# Get test data to test the classifier\n",
    "X_test = test_data[model_features]\n",
    "y_test = test_data[model_target]\n",
    "\n",
    "# Use the fitted model to make predictions on the test dataset\n",
    "# Test data going through the Pipeline it's first imputed (with means from the train), scaled (with the min/max from the train data), and finally used to make predictions\n",
    "test_predictions = classifier.predict(X_test)\n",
    "\n",
    "print('Model performance on the test set:')\n",
    "print(confusion_matrix(y_test, test_predictions))\n",
    "print(classification_report(y_test, test_predictions))\n",
    "print(\"Test accuracy:\", accuracy_score(y_test, test_predictions))"
   ]
  },
  {
   "cell_type": "code",
   "execution_count": null,
   "id": "instrumental-supervisor",
   "metadata": {},
   "outputs": [],
   "source": []
  }
 ],
 "metadata": {
  "kernelspec": {
   "display_name": "Python 3",
   "language": "python",
   "name": "python3"
  },
  "language_info": {
   "codemirror_mode": {
    "name": "ipython",
    "version": 3
   },
   "file_extension": ".py",
   "mimetype": "text/x-python",
   "name": "python",
   "nbconvert_exporter": "python",
   "pygments_lexer": "ipython3",
   "version": "3.9.2"
  }
 },
 "nbformat": 4,
 "nbformat_minor": 5
}
